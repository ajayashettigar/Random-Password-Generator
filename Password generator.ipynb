{
 "cells": [
  {
   "cell_type": "code",
   "execution_count": 109,
   "id": "fed18ca7",
   "metadata": {},
   "outputs": [
    {
     "name": "stdout",
     "output_type": "stream",
     "text": [
      "Length of Your Password 5\n",
      "How many letters do you want to include 3\n",
      "How many numbers do you want to include 2\n",
      "your generated random password is K8K7U\n"
     ]
    }
   ],
   "source": [
    "import random\n",
    "letters=['A','a','B','b','C','c','D','d','E','e','F','f','G','g','H','h','I','i','J','j','K','k','L','l','M','m','N','n','O','o',\n",
    "        'P','p','Q','q','R','r','S','s','T','t','U','u','V','v','W','w','X','x','Y','y','Z','z']\n",
    "num=['1','2','3','4','5','6','7','8','9','0']\n",
    "sym=['!','@','#','$','%','^','&','*','?']\n",
    "p=int(input(\"Length of Your Password \"))\n",
    "l=int(input('How many letters do you want to include '))\n",
    "n=int(input('How many numbers do you want to include '))\n",
    "let=''\n",
    "nu=''\n",
    "sy=''\n",
    "\n",
    "for i in range(l):\n",
    "    let+=letters[random.randint(0,len(letters)-1)]\n",
    "for i in range(n):\n",
    "    if p-l==0 or n>p-l:\n",
    "        print('invalid')\n",
    "        break\n",
    "    else:\n",
    "        nu+=num[random.randint(0,len(num)-1)]\n",
    "for i in range(p-(l+n)):\n",
    "    if p-(l+n)==0:\n",
    "        sy=''\n",
    "    else:\n",
    "        sy+=sym[random.randint(0,len(sym)-1)]\n",
    "pas=let+nu+sy\n",
    "sword=list(pas)\n",
    "random.shuffle(sword)\n",
    "password=''.join(sword)\n",
    "print(f\"your generated random password is {password}\")"
   ]
  }
 ],
 "metadata": {
  "kernelspec": {
   "display_name": "Python 3 (ipykernel)",
   "language": "python",
   "name": "python3"
  },
  "language_info": {
   "codemirror_mode": {
    "name": "ipython",
    "version": 3
   },
   "file_extension": ".py",
   "mimetype": "text/x-python",
   "name": "python",
   "nbconvert_exporter": "python",
   "pygments_lexer": "ipython3",
   "version": "3.11.5"
  }
 },
 "nbformat": 4,
 "nbformat_minor": 5
}
